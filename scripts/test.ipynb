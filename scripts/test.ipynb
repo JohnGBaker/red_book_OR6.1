{
 "cells": [
  {
   "cell_type": "code",
   "execution_count": 1,
   "metadata": {},
   "outputs": [],
   "source": [
    "import sys\n",
    "import os\n",
    "\n",
    "import matplotlib.pyplot as plt\n",
    "%matplotlib inline\n",
    "import numpy as np\n",
    "\n",
    "from few.trajectory.inspiral import EMRIInspiral\n",
    "from few.amplitude.romannet import RomanAmplitude\n",
    "from few.amplitude.interp2dcubicspline import Interp2DAmplitude\n",
    "from few.waveform import FastSchwarzschildEccentricFlux, SlowSchwarzschildEccentricFlux, GenerateEMRIWaveform\n",
    "from few.utils.utility import (get_overlap,\n",
    "                               get_mismatch,\n",
    "                               get_fundamental_frequencies,\n",
    "                               get_separatrix,\n",
    "                               get_mu_at_t,\n",
    "                               get_p_at_t,\n",
    "                               get_kerr_geo_constants_of_motion,\n",
    "                               xI_to_Y,\n",
    "                               Y_to_xI)\n",
    "\n",
    "from few.utils.ylm import GetYlms\n",
    "from few.utils.modeselector import ModeSelector\n",
    "from few.summation.interpolatedmodesum import CubicSplineInterpolant\n",
    "from few.waveform import SchwarzschildEccentricWaveformBase\n",
    "from few.summation.interpolatedmodesum import InterpolatedModeSum\n",
    "from few.summation.directmodesum import DirectModeSum\n",
    "from few.utils.constants import *\n",
    "from few.summation.aakwave import AAKSummation\n",
    "from few.waveform import Pn5AAKWaveform, AAKWaveformBase"
   ]
  },
  {
   "cell_type": "code",
   "execution_count": 2,
   "metadata": {},
   "outputs": [],
   "source": [
    "use_gpu = False\n",
    "\n",
    "# keyword arguments for inspiral generator (RunSchwarzEccFluxInspiral)\n",
    "inspiral_kwargs={\n",
    "        \"DENSE_STEPPING\": 0,  # we want a sparsely sampled trajectory\n",
    "        \"max_init_len\": int(1e3),  # all of the trajectories will be well under len = 1000\n",
    "    }\n",
    "\n",
    "# keyword arguments for inspiral generator (RomanAmplitude)\n",
    "amplitude_kwargs = {\n",
    "    \"max_init_len\": int(1e3),  # all of the trajectories will be well under len = 1000\n",
    "    \"use_gpu\": use_gpu  # GPU is available in this class\n",
    "}\n",
    "\n",
    "# keyword arguments for Ylm generator (GetYlms)\n",
    "Ylm_kwargs = {\n",
    "    \"assume_positive_m\": False  # if we assume positive m, it will generate negative m for all m>0\n",
    "}\n",
    "\n",
    "# keyword arguments for summation generator (InterpolatedModeSum)\n",
    "sum_kwargs = {\n",
    "    \"use_gpu\": use_gpu,  # GPU is availabel for this type of summation\n",
    "    \"pad_output\": False,\n",
    "}\n",
    "\n",
    "# set omp threads one of two ways\n",
    "num_threads = 4\n",
    "\n",
    "# this is the general way to set it for all computations\n",
    "from few.utils.utility import omp_set_num_threads\n",
    "omp_set_num_threads(num_threads)\n",
    "\n",
    "few = FastSchwarzschildEccentricFlux(\n",
    "    inspiral_kwargs=inspiral_kwargs,\n",
    "    amplitude_kwargs=amplitude_kwargs,\n",
    "    Ylm_kwargs=Ylm_kwargs,\n",
    "    sum_kwargs=sum_kwargs,\n",
    "    use_gpu=use_gpu,\n",
    "    num_threads=num_threads,  # 2nd way for specific classes\n",
    ")"
   ]
  },
  {
   "cell_type": "code",
   "execution_count": 3,
   "metadata": {},
   "outputs": [],
   "source": [
    "from few.utils.baseclasses import TrajectoryBase\n",
    "from few.utils.constants import MTSUN_SI, YRSID_SI, Pi\n",
    "\n",
    "class PnTrajectory(TrajectoryBase):\n",
    "    def __init__(self, *args, **kwargs):\n",
    "        kwargs_internal = kwargs.copy()\n",
    "        if 'max_init_len' in kwargs:\n",
    "            self.max_init_len_external = kwargs['max_init_len']\n",
    "            max_init_len_internal = int(1e3)\n",
    "            kwargs_internal['max_init_len'] = max_init_len_internal\n",
    "        else:\n",
    "            self.max_init_len_external = 150\n",
    "        \n",
    "        self.traj_module = EMRIInspiral(func='pn5', **kwargs_internal)\n",
    "        pass\n",
    "    \n",
    "    def get_inspiral(self, M, mu, a, p0, e0, x0, T=1.0, **kwargs):\n",
    "        kwargs_internal = kwargs.copy()\n",
    "        if 'max_init_len' in kwargs:\n",
    "            self.max_init_len_external = kwargs['max_init_len']\n",
    "            max_init_len_internal = int(1e3)\n",
    "            kwargs_internal['max_init_len'] = max_init_len_internal\n",
    "            \n",
    "        t, p, e, x, Phi_phi, Phi_theta, Phi_r = self.traj_module(M, mu, a, p0, e0, x0, T=T, **kwargs_internal)\n",
    "        \n",
    "        if t.shape[0] > self.max_init_len_external:\n",
    "            new_t = (t[-1] - np.logspace(1., np.log10(t[-1]), self.max_init_len_external) + 10.)[::-1]\n",
    "            t, p, e, x, Phi_phi, Phi_theta, Phi_r = self.traj_module(M, mu, a, p0, e0, x0, T=T, new_t=new_t, upsample=True, **kwargs_internal)\n",
    "            \n",
    "        return (t, p, e, x, Phi_phi, Phi_theta, Phi_r)\n",
    "    \n",
    "class PnAAK(AAKWaveformBase):\n",
    "    def __init__(\n",
    "        self,\n",
    "        inspiral_kwargs={},\n",
    "        sum_kwargs={},\n",
    "        use_gpu=False,\n",
    "        *args,\n",
    "        **kwargs\n",
    "    ):\n",
    "\n",
    "        AAKWaveformBase.__init__(\n",
    "            self,\n",
    "            PnTrajectory,\n",
    "            AAKSummation,\n",
    "            inspiral_kwargs=inspiral_kwargs,\n",
    "            sum_kwargs=sum_kwargs,\n",
    "            use_gpu=use_gpu,\n",
    "            num_threads=num_threads,\n",
    "            *args,\n",
    "            **kwargs\n",
    "        )\n",
    "\n",
    "    @property\n",
    "    def gpu_capability(self):\n",
    "        return True\n",
    "\n",
    "    @property\n",
    "    def allow_batching(self):\n",
    "        return False"
   ]
  },
  {
   "cell_type": "code",
   "execution_count": 4,
   "metadata": {},
   "outputs": [
    {
     "name": "stdout",
     "output_type": "stream",
     "text": [
      "p0 = 8.609785945469952 will create a waveform that is 1.0 years long, given the other input parameters.\n"
     ]
    }
   ],
   "source": [
    "# traj_module = EMRIInspiral(func=\"SchwarzEccFlux\")\n",
    "inspiral_kwargs = {\n",
    "    \"DENSE_STEPPING\": 0,  #we want a sparsely sampled trajectory\n",
    "    \"max_init_len\": int(165),  # all of the trajectories will be well under len = 1000\n",
    "}\n",
    "traj_module_ref = EMRIInspiral(func=\"pn5\", **inspiral_kwargs)\n",
    "traj_module = PnTrajectory(**inspiral_kwargs)\n",
    "\n",
    "# set initial parameters\n",
    "z = 1.5\n",
    "M = 5e5*(1+z)\n",
    "mu = 1e1*(1+z)\n",
    "e0 = 0.2\n",
    "\n",
    "traj_args = [M, mu, 0.9, e0, 1.0]\n",
    "\n",
    "t_out = 1.0\n",
    "# run trajectory\n",
    "p_new = get_p_at_t(\n",
    "    traj_module,\n",
    "    t_out,\n",
    "    traj_args,\n",
    "    traj_kwargs=inspiral_kwargs,\n",
    ")\n",
    "\n",
    "print('p0 = {} will create a waveform that is {} years long, given the other input parameters.'.format(p_new, t_out))"
   ]
  },
  {
   "cell_type": "code",
   "execution_count": 5,
   "metadata": {},
   "outputs": [
    {
     "data": {
      "text/plain": [
       "(219,)"
      ]
     },
     "execution_count": 5,
     "metadata": {},
     "output_type": "execute_result"
    }
   ],
   "source": [
    "traj_module(M, mu, traj_args[2], p_new, e0, traj_args[4], T=t_out)[0].shape"
   ]
  },
  {
   "cell_type": "code",
   "execution_count": 6,
   "metadata": {},
   "outputs": [],
   "source": [
    "from few.utils.utility import get_separatrix"
   ]
  },
  {
   "cell_type": "code",
   "execution_count": null,
   "metadata": {},
   "outputs": [],
   "source": []
  },
  {
   "cell_type": "code",
   "execution_count": 7,
   "metadata": {},
   "outputs": [
    {
     "data": {
      "text/plain": [
       "0.9999999924190711"
      ]
     },
     "execution_count": 7,
     "metadata": {},
     "output_type": "execute_result"
    }
   ],
   "source": [
    "# set initial parameters\n",
    "p0 = p_new\n",
    "\n",
    "# run trajectory\n",
    "t, p, e, x, Phi_phi, Phi_theta, Phi_r = traj_module(M, mu, traj_args[2], p_new, e0, traj_args[4], T=t_out, max_init_len=160)\n",
    "#t2, p2, e2, x2, Phi_phi2, Phi_theta2, Phi_r2 = traj_module_ref(M, mu, traj_args[2], p_new, e0, traj_args[4], T=t_out, max_init_len=160)\n",
    "t[-1]/YRSID_SI"
   ]
  },
  {
   "cell_type": "code",
   "execution_count": 8,
   "metadata": {},
   "outputs": [],
   "source": [
    "from scipy.optimize import brentq\n",
    "def get_at_t_nb(\n",
    "    traj_module,\n",
    "    traj_args,\n",
    "    bounds,\n",
    "    t_out,\n",
    "    index_of_interest,\n",
    "    traj_kwargs={},\n",
    "    xtol=2e-12,\n",
    "    rtol=8.881784197001252e-16,\n",
    "):\n",
    "    \"\"\"Root finding wrapper using Brent's method.\n",
    "\n",
    "    This function uses scipy's brentq routine to find root.\n",
    "\n",
    "    arguments:\n",
    "        traj_module (obj): Instantiated trajectory module. It must output\n",
    "            the time array of the trajectory sparse trajectory as the first\n",
    "            output value in the tuple.\n",
    "        traj_args (list): List of arguments for the trajectory function.\n",
    "            p is removed. **Note**: It must be a list, not a tuple because the\n",
    "            new p values are inserted into the argument list.\n",
    "        bounds (list): Minimum and maximum values over which brentq will search for a root.\n",
    "        t_out (double): The desired length of time for the waveform.\n",
    "        index_of_interest (int): Index where to insert the new values in\n",
    "            the :code:`traj_args` list.\n",
    "        traj_kwargs (dict, optional): Keyword arguments for :code:`traj_module`.\n",
    "            Default is an empty dict.\n",
    "        xtol (float, optional): Absolute tolerance of the brentq root-finding - see :code: `np.allclose()` for details.\n",
    "            Defaults to 2e-12 (scipy default).\n",
    "        rtol (float, optional): Relative tolerance of the brentq root-finding - see :code: `np.allclose()` for details.\n",
    "            Defaults to ~8.8e-16 (scipy default).\n",
    "\n",
    "    returns:\n",
    "        double: Root value.\n",
    "\n",
    "    \"\"\"\n",
    "\n",
    "    def get_time_root(val, traj, inj_args, traj_kwargs, t_out, ind_interest):\n",
    "        \"\"\"\n",
    "        Function with one p root at T = t_outp, for brentq input.\n",
    "        \"\"\"\n",
    "        inputs = inj_args.copy()\n",
    "        inputs.insert(ind_interest, val)\n",
    "        traj_kwargs[\"T\"] = t_out * 2.0\n",
    "        out = traj(*inputs, **traj_kwargs)\n",
    "        return out[0][-1] - t_out * YRSID_SI\n",
    "    \n",
    "    root = brentq(\n",
    "        get_time_root,\n",
    "        bounds[0],\n",
    "        bounds[1],\n",
    "        xtol=xtol,\n",
    "        rtol=rtol,\n",
    "        args=(traj_module, traj_args, traj_kwargs, t_out, index_of_interest),\n",
    "    )\n",
    "    return root\n",
    "\n",
    "def get_p_at_t_nb(\n",
    "    traj_module,\n",
    "    t_out,\n",
    "    traj_args,\n",
    "    index_of_p=3,\n",
    "    index_of_a=2,\n",
    "    index_of_e=4,\n",
    "    index_of_x=5,\n",
    "    bounds=None,\n",
    "    **kwargs,\n",
    "):\n",
    "    \"\"\"Find the value of p that will give a specific length inspiral using Brent's method.\n",
    "\n",
    "    If you want to generate an inspiral that is a specific length, you\n",
    "    can adjust p accordingly. This function tells you what that value of p\n",
    "    is based on the trajectory module and other input parameters at a\n",
    "    desired time of observation.\n",
    "\n",
    "    This function uses scipy's brentq routine to find the (presumed only)\n",
    "    value of p that gives a trajectory of duration t_out.\n",
    "\n",
    "    arguments:\n",
    "        traj_module (obj): Instantiated trajectory module. It must output\n",
    "            the time array of the trajectory sparse trajectory as the first\n",
    "            output value in the tuple.\n",
    "        t_out (double): The desired length of time for the waveform.\n",
    "        traj_args (list): List of arguments for the trajectory function.\n",
    "            p is removed. **Note**: It must be a list, not a tuple because the\n",
    "            new p values are inserted into the argument list.\n",
    "        index_of_p (int, optional): Index where to insert the new p values in\n",
    "            the :code:`traj_args` list. Default is 3.\n",
    "        index_of_a (int, optional): Index of a in provided :code:`traj_module` arguments. Default is 2.\n",
    "        index_of_e (int, optional): Index of e0 in provided :code:`traj_module` arguments. Default is 4.\n",
    "        index_of_x (int, optional): Index of x0 in provided :code:`traj_module` arguments. Default is 5.\n",
    "        bounds (list, optional): Minimum and maximum values of p over which brentq will search for a root.\n",
    "            If not given, will be set to [separatrix + 0.101, 50]. To supply only one of these two limits, set the\n",
    "            other limit to None.\n",
    "        **kwargs (dict, optional): Keyword arguments for :func:`get_at_t`.\n",
    "\n",
    "    returns:\n",
    "        double: Value of p that creates the proper length trajectory.\n",
    "\n",
    "    \"\"\"\n",
    "\n",
    "    # fix indexes for p\n",
    "    if index_of_a > index_of_p:\n",
    "        index_of_a -= 1\n",
    "    if index_of_e > index_of_p:\n",
    "        index_of_e -= 1\n",
    "    if index_of_x > index_of_p:\n",
    "        index_of_x -= 1\n",
    "\n",
    "    if \"traj_kwargs\" in kwargs and \"enforce_schwarz_sep\" in kwargs[\"traj_kwargs\"]:\n",
    "        enforce_schwarz_sep = kwargs[\"traj_kwargs\"][\"enforce_schwarz_sep\"]\n",
    "    else:\n",
    "        enforce_schwarz_sep = False\n",
    "\n",
    "    # fix bounds\n",
    "    if bounds is None:\n",
    "        if not enforce_schwarz_sep:\n",
    "            p_sep = get_separatrix(\n",
    "                traj_args[index_of_a], traj_args[index_of_e], traj_args[index_of_x]\n",
    "            )  # should be fairly close.\n",
    "        else:\n",
    "            p_sep = 6 + 2 * traj_args[index_of_e]\n",
    "        bounds = [p_sep + 0.1, 16.0 + 2 * traj_args[index_of_e]]\n",
    "\n",
    "    elif bounds[0] is None:\n",
    "        if not enforce_schwarz_sep:\n",
    "            p_sep = get_separatrix(\n",
    "                traj_args[index_of_a], traj_args[index_of_e], traj_args[index_of_x]\n",
    "            )  # should be fairly close.\n",
    "        else:\n",
    "            p_sep = 6 + 2 * traj_args[index_of_e]\n",
    "        bounds[0] = p_sep + 0.1\n",
    "\n",
    "    elif bounds[1] is None:\n",
    "        bounds[1] = 16.0 + 2 * traj_args[index_of_e]\n",
    "\n",
    "    root = get_at_t_nb(traj_module, traj_args, bounds, t_out, index_of_p, **kwargs)\n",
    "    return root"
   ]
  },
  {
   "cell_type": "code",
   "execution_count": 9,
   "metadata": {},
   "outputs": [
    {
     "data": {
      "text/plain": [
       "8.609785919689404"
      ]
     },
     "execution_count": 9,
     "metadata": {},
     "output_type": "execute_result"
    }
   ],
   "source": [
    "get_at_t_nb(traj_module,\n",
    "    traj_args,\n",
    "    [8., 16.],\n",
    "    1.,\n",
    "    3, {'DENSE_STEPPING': 0, 'max_init_len': 165, 'T': 2.0})"
   ]
  },
  {
   "cell_type": "code",
   "execution_count": 10,
   "metadata": {},
   "outputs": [
    {
     "data": {
      "text/plain": [
       "8.609785945469952"
      ]
     },
     "execution_count": 10,
     "metadata": {},
     "output_type": "execute_result"
    }
   ],
   "source": [
    "get_p_at_t_nb(traj_module,\n",
    "    t_out,\n",
    "    traj_args,\n",
    "    traj_kwargs=inspiral_kwargs)"
   ]
  },
  {
   "cell_type": "code",
   "execution_count": null,
   "metadata": {},
   "outputs": [],
   "source": []
  },
  {
   "cell_type": "code",
   "execution_count": null,
   "metadata": {},
   "outputs": [],
   "source": []
  },
  {
   "cell_type": "code",
   "execution_count": 1,
   "metadata": {},
   "outputs": [],
   "source": [
    "import numpy as np\n",
    "from eryn.state import State\n",
    "from eryn.ensemble import EnsembleSampler\n",
    "from eryn.prior import ProbDistContainer, uniform_dist\n",
    "import corner\n",
    "\n",
    "from eryn.moves import StretchMove\n",
    "\n",
    "from lisatools.sensitivity import get_sensitivity\n",
    "\n",
    "import prep_emri\n",
    "from prep_emri import PnTrajectory, PnAAK\n",
    "from few.trajectory.inspiral import EMRIInspiral\n",
    "from few.utils.utility import get_p_at_t"
   ]
  },
  {
   "cell_type": "code",
   "execution_count": 2,
   "metadata": {},
   "outputs": [],
   "source": [
    "prep_emri.lisa_gpu_path='/Users/znasipak/Documents/Projects/skyLocalization/lisa-on-gpu/'\n",
    "use_gpu = False\n",
    "\n",
    "# set parameters\n",
    "M = 5e5\n",
    "mu = 10.0\n",
    "a = 0.01  # will be ignored in Schwarzschild waveform\n",
    "p0 = 16.0\n",
    "e0 = 0.01\n",
    "x0 = 1.0  # will be ignored in Schwarzschild waveform\n",
    "dist = 1.0  # distance\n",
    "qK = 0.2  # polar spin angle\n",
    "phiK = 0.2  # azimuthal viewing angle\n",
    "qS = 0.3  # polar sky angle\n",
    "phiS = 0.3  # azimuthal viewing angle\n",
    "Phi_phi0 = 1.0\n",
    "Phi_theta0 = 0.0\n",
    "Phi_r0 = 3.0\n",
    "\n",
    "Tobs = 2.0\n",
    "dt = 15.\n",
    "\n",
    "emri_injection_params = np.array([\n",
    "        M,  \n",
    "        mu, \n",
    "        a,\n",
    "        p0, \n",
    "        e0, \n",
    "        x0,\n",
    "        dist,\n",
    "        qK, \n",
    "        phiK, \n",
    "        qS, \n",
    "        phiS,  \n",
    "        Phi_phi0, \n",
    "        Phi_theta0, \n",
    "        Phi_r0\n",
    "])\n",
    "\n",
    "# set parameters\n",
    "emri_injection_params_dict = {\n",
    "        'M':  M,  \n",
    "        'mu': mu, \n",
    "        'a':  a, # will be ignored in Schwarzschild waveform\n",
    "        'p0': p0, \n",
    "        'e0': e0, \n",
    "        'x0': x0,   # will be ignored in Schwarzschild waveform\n",
    "        'dist': dist, # Gpc \n",
    "        'qK': qK,   # polar spin angle\n",
    "        'phiK':phiK,  # azimuthal \n",
    "        'qS': qS,   # polar sky angle \n",
    "        'phiS': phiS, # azimuthal \n",
    "        'Phi_phi0':  Phi_phi0,  \n",
    "        'Phi_theta0':Phi_theta0, \n",
    "        'Phi_r0':    Phi_r0\n",
    "}\n",
    "    \n",
    "sampling_pars=\"lnM,mu,p0,e0,dist,cosqS,phiS,cosqK,phiK,Phi_phi0,Phi_r0\".split(',')\n",
    "    \n",
    "#priors\n",
    "priors_dict={\n",
    "                'lnM': uniform_dist(np.log(1e5), np.log(5e6)),  # M\n",
    "                'mu': uniform_dist(1.0, 100.0),  # mu\n",
    "                'p0': uniform_dist(9.0, 16.0),  # p0 #raised LB from 8 bc crash at p/e=8.35/0.65\n",
    "                'e0': uniform_dist(0.001, 0.7),  # e0\n",
    "                'dist': uniform_dist(0.01, 100.0),  # dist in Gpc\n",
    "                'cosqK': uniform_dist(-0.99999, 0.99999),  # qK\n",
    "                'phiK': uniform_dist(0.0, 2 * np.pi),  # phiK\n",
    "                'cosqS': uniform_dist(-0.99999, 0.99999),  # qS\n",
    "                'phiS': uniform_dist(0.0, 2 * np.pi),  # phiS\n",
    "                'Phi_phi0': uniform_dist(0.0, 2 * np.pi),  # Phi_phi0\n",
    "                'Phi_r0': uniform_dist(0.0, 2 * np.pi),  # Phi_r0\n",
    "}\n",
    "\n",
    "ntemps = 4\n",
    "nwalkers = 30\n",
    "\n",
    "waveform_kwargs = {\n",
    "   \"eps\": 1e-2\n",
    "}\n",
    "\n",
    "waveform_kwargs_aak = {\n",
    "}"
   ]
  },
  {
   "cell_type": "code",
   "execution_count": 7,
   "metadata": {},
   "outputs": [
    {
     "name": "stdout",
     "output_type": "stream",
     "text": [
      "799 ms ± 8.54 ms per loop (mean ± std. dev. of 7 runs, 1 loop each)\n"
     ]
    }
   ],
   "source": [
    "wave_model=PnAAK(inspiral_kwargs={'max_init_len':150},sum_kwargs={\"pad_output\":True},num_threads=2)\n",
    "%timeit h=wave_model(5e5, 10., 0.01, 11.6, 0.01, 0.99, dist=10., T=2.0, dt=15., qS=0., phiS=0., qK=0., phiK=0.)"
   ]
  },
  {
   "cell_type": "code",
   "execution_count": null,
   "metadata": {},
   "outputs": [],
   "source": []
  },
  {
   "cell_type": "code",
   "execution_count": 4,
   "metadata": {},
   "outputs": [
    {
     "data": {
      "text/plain": [
       "[<matplotlib.lines.Line2D at 0x7fdd9adb2d90>]"
      ]
     },
     "execution_count": 4,
     "metadata": {},
     "output_type": "execute_result"
    },
    {
     "data": {
      "image/png": "[encoded data removed]",
      "text/plain": [
       "<Figure size 432x288 with 1 Axes>"
      ]
     },
     "metadata": {
      "needs_background": "light"
     },
     "output_type": "display_data"
    }
   ],
   "source": [
    "import matplotlib.pyplot as plt\n",
    "plt.plot(h.real[:100])"
   ]
  },
  {
   "cell_type": "code",
   "execution_count": null,
   "metadata": {},
   "outputs": [],
   "source": []
  },
  {
   "cell_type": "code",
   "execution_count": 5,
   "metadata": {},
   "outputs": [],
   "source": [
    "# function call\n",
    "def run_emri_snr(\n",
    "    emri_prep, \n",
    "    emri_kwargs={}\n",
    "):\n",
    "\n",
    "    wave_gen=emri_prep['wave_gen']\n",
    "    priors=emri_prep['priors']\n",
    "    like = emri_prep['like']\n",
    "    injection_params=emri_prep['injection_params']\n",
    "    waveform_model=emri_prep['waveform_model']\n",
    "    \n",
    "    # get XYZ\n",
    "    data_channels = wave_gen(*injection_params, **emri_kwargs)\n",
    "    nchannels=2\n",
    "    \n",
    "    #For SNR calc we set the injected signal to 0\n",
    "    like.inject_signal(\n",
    "        data_stream=[0*data_channels[i] for i in range(nchannels)],\n",
    "        noise_fn=get_sensitivity,\n",
    "        noise_kwargs=[{\"sens_fn\": \"noisepsd_AE\", \"model\": \"SciRDv1\", \"includewd\": None} for _ in range(nchannels)],\n",
    "        noise_args=[[] for _ in range(nchannels)],\n",
    "    )\n",
    "\n",
    "    ndraw = 2\n",
    "\n",
    "    draws = priors['emri'].rvs(ndraw)\n",
    "\n",
    "    inspiral_kwargs = {\n",
    "        \"DENSE_STEPPING\": 0,  # we want a sparsely sampled trajectory\n",
    "        \"max_init_len\": int(160),  # all of the trajectories will be well under len = 1000\n",
    "    }\n",
    "    \n",
    "    if waveform_model == \"PnAAK\":\n",
    "        traj_module = PnTrajectory(**inspiral_kwargs)\n",
    "    elif waveform_model == \"Pn5AAKWaveform\":\n",
    "        traj_module = EMRIInspiral(func=\"SchwarzEpn5ccFlux\", **inspiral_kwargs)\n",
    "    else:\n",
    "        traj_module = EMRIInspiral(func=\"SchwarzEccFlux\", **inspiral_kwargs)\n",
    "\n",
    "    # set initial parameters\n",
    "    z = 1.5\n",
    "    M = 5e5*(1+z)\n",
    "    lnM = np.log(M)\n",
    "    mu = 1e1*(1+z)\n",
    "    a = injection_params[2]\n",
    "    e0 = injection_params[4]\n",
    "    x0 = injection_params[5]\n",
    "\n",
    "    traj_args = [M, mu, a, e0, x0]\n",
    "\n",
    "    t_out = wave_gen.Tobs\n",
    "    # run trajectory\n",
    "    p0 = get_p_at_t(\n",
    "        traj_module,\n",
    "        t_out,\n",
    "        traj_args,\n",
    "        traj_kwargs=inspiral_kwargs,\n",
    "    )\n",
    "    print(p0)\n",
    "    if waveform_model == \"FastSchwarzschildEccentricFlux\" and p0 > 16 + 2.*e0:\n",
    "        p0 = 0.99*(16. + 2.*e0)\n",
    "    dist = 11.1\n",
    "    \n",
    "\n",
    "    res=[]\n",
    "    fails=[]\n",
    "    for pars in draws:\n",
    "        try:\n",
    "            pars[0] = lnM\n",
    "            pars[1] = mu\n",
    "            pars[2] = p0\n",
    "            pars[3] = e0\n",
    "            pars[4] = dist\n",
    "            llike=like(pars.reshape(1,-1),**emri_kwargs)\n",
    "            snr2=-2*llike[0]\n",
    "            res.append([np.sqrt(snr2),*pars])\n",
    "            print(*res[-1])\n",
    "        except Exception as e:\n",
    "            print(e)\n",
    "            #snr2=-1\n",
    "            fails.append([*pars])\n",
    "        print(pars)\n",
    "            \n",
    "\n",
    "    res=np.array(res)\n",
    "    print(len(res),'/',ndraw,'good')\n",
    "    header=' '.join(['','snr']+emri_prep['sampling_pars'])\n",
    "    print('header',header)\n",
    "    if len(res) > 0:\n",
    "        sres=res[np.argsort(res[:,0])]\n",
    "        print(sres)\n",
    "    else:\n",
    "        print(res)\n",
    "#     np.savetxt('sorted_fom_200.txt',sres,header=header)\n",
    "#     np.savetxt('fails_fom_200.txt',fails,header=header)\n",
    "\n",
    "    return"
   ]
  },
  {
   "cell_type": "code",
   "execution_count": 14,
   "metadata": {},
   "outputs": [
    {
     "name": "stdout",
     "output_type": "stream",
     "text": [
      "ordered_sampling_pars ['lnM', 'mu', 'p0', 'e0', 'dist', 'cosqS', 'phiS', 'cosqK', 'phiK', 'Phi_phi0', 'Phi_r0']\n",
      "periodic_sampling_inds [6, 8, 9, 10]\n",
      "fixed_inds [2, 5, 12]\n",
      "fixed_vals [0.01, 1.0, 0.0]\n",
      "injection_params_array [5.0e+05 1.0e+01 1.0e-02 1.6e+01 1.0e-02 1.0e+00 1.0e+00 3.0e-01 3.0e-01\n",
      " 2.0e-01 2.0e-01 1.0e+00 0.0e+00 3.0e+00]\n",
      "truths [13.122363377404328, 10.0, 16.0, 0.01, 1.0, 0.955336489125606, 0.3, 0.9800665778412416, 0.2, 1.0, 3.0]\n",
      "sampling_param_transforms {0: <ufunc 'exp'>, 7: <ufunc 'arccos'>, 9: <ufunc 'arccos'>}\n",
      "11.322851272201191\n",
      "9.161585249530047 14.038654109278484 25.0 11.322851272201191 0.01 11.1 0.18796499214469364 2.084659731080591 -0.5781798553451974 1.4196221080964366 0.5173674184911216 0.6343301147731218\n",
      "[ 1.40386541e+01  2.50000000e+01  1.13228513e+01  1.00000000e-02\n",
      "  1.11000000e+01  1.87964992e-01  2.08465973e+00 -5.78179855e-01\n",
      "  1.41962211e+00  5.17367418e-01  6.34330115e-01]\n",
      "9.665838127044827 14.038654109278484 25.0 11.322851272201191 0.01 11.1 -0.7693713365270411 4.554135399031427 0.9297216223040022 5.461930709138241 1.111435563299745 6.149342940796147\n",
      "[ 1.40386541e+01  2.50000000e+01  1.13228513e+01  1.00000000e-02\n",
      "  1.11000000e+01 -7.69371337e-01  4.55413540e+00  9.29721622e-01\n",
      "  5.46193071e+00  1.11143556e+00  6.14934294e+00]\n",
      "2 / 2 good\n",
      "header  snr lnM mu p0 e0 dist cosqS phiS cosqK phiK Phi_phi0 Phi_r0\n",
      "[[ 9.16158525e+00  1.40386541e+01  2.50000000e+01  1.13228513e+01\n",
      "   1.00000000e-02  1.11000000e+01  1.87964992e-01  2.08465973e+00\n",
      "  -5.78179855e-01  1.41962211e+00  5.17367418e-01  6.34330115e-01]\n",
      " [ 9.66583813e+00  1.40386541e+01  2.50000000e+01  1.13228513e+01\n",
      "   1.00000000e-02  1.11000000e+01 -7.69371337e-01  4.55413540e+00\n",
      "   9.29721622e-01  5.46193071e+00  1.11143556e+00  6.14934294e+00]]\n"
     ]
    }
   ],
   "source": [
    "emri_prep=prep_emri.prep(\n",
    "    emri_injection_params_dict,\n",
    "    sampling_pars,\n",
    "    priors_dict,\n",
    "    Tobs,\n",
    "    dt,\n",
    "    use_gpu,\n",
    "    'PnAAK'\n",
    ")     \n",
    "\n",
    "run_emri_snr(\n",
    "    emri_prep,\n",
    "    emri_kwargs=waveform_kwargs_aak\n",
    ")"
   ]
  },
  {
   "cell_type": "code",
   "execution_count": 7,
   "metadata": {},
   "outputs": [
    {
     "name": "stdout",
     "output_type": "stream",
     "text": [
      "[1.24999999e+06 2.50000000e+01 1.00000000e-02 1.13228513e+01\n",
      " 1.00000000e-02 1.00000000e+00 1.11000000e+01 2.68348785e+00\n",
      " 1.60415914e-01 4.94124630e-01 4.96368076e+00 3.08901536e-02\n",
      " 0.00000000e+00 5.52897361e+00]\n"
     ]
    }
   ],
   "source": [
    "testparams=emri_prep['like'].parameter_transforms['emri'].both_transforms(np.array([1.40386541e+01,  2.50000000e+01,  1.13228513e+01,\n",
    "   1.00000000e-02,  1.11000000e+01, -8.96892257e-01,  1.60415914e-01,\n",
    "   8.80384201e-01,  4.96368076e+00,  3.08901536e-02,  5.52897361e+00]))\n",
    "print(testparams)"
   ]
  },
  {
   "cell_type": "code",
   "execution_count": 8,
   "metadata": {},
   "outputs": [],
   "source": [
    "wave_model=PnAAK(inspiral_kwargs={'max_init_len':150},num_threads=2)\n",
    "h=wave_model(*testparams, T=1.0, dt=15.)"
   ]
  },
  {
   "cell_type": "code",
   "execution_count": 9,
   "metadata": {},
   "outputs": [],
   "source": [
    "traj=PnTrajectory()"
   ]
  },
  {
   "cell_type": "code",
   "execution_count": 10,
   "metadata": {},
   "outputs": [],
   "source": [
    "t,p,e,x,_,_,_=traj(*testparams[:8])"
   ]
  },
  {
   "cell_type": "code",
   "execution_count": 11,
   "metadata": {},
   "outputs": [
    {
     "data": {
      "text/plain": [
       "array([       0.        ,  2834699.70511365,  5414773.58671991,\n",
       "        7763093.31262882,  9900476.11178339, 11845869.31344949,\n",
       "       13616518.31024399, 15228119.43394698, 16694959.09930289,\n",
       "       18030040.44928208, 19245198.62448034, 20351205.67848805,\n",
       "       21357866.0692765 , 22274103.57310642, 23108040.39142805,\n",
       "       23867069.15203363, 24557918.44273402, 25186712.45849762,\n",
       "       25759025.29080763, 26279930.34049859, 26754045.29210349,\n",
       "       27185573.04839746, 27578338.98801135, 27935824.87639461,\n",
       "       28261199.73073865, 28557347.91247026, 28826894.6963474 ,\n",
       "       29072229.54282085, 29295527.27996462, 29498767.38274769,\n",
       "       29683751.52055235, 29852119.52849346, 30005363.94412003,\n",
       "       30144843.23836304, 30271793.85801847, 30387341.18651885,\n",
       "       30492509.52015766, 30588231.14820314, 30675354.61739442,\n",
       "       30754652.25408229, 30826827.01069669, 30892518.69723272,\n",
       "       30952309.65299587, 31006729.90888488, 31056261.88597447,\n",
       "       31101344.67204971, 31142377.91400226, 31179725.36059367,\n",
       "       31213718.08699123, 31244657.42966118, 31272817.65763624,\n",
       "       31298448.40383748, 31321776.87800376, 31343009.8808455 ,\n",
       "       31362335.6372779 , 31379925.46498473, 31395935.2931039 ,\n",
       "       31410507.0444978 , 31423769.89386164, 31435841.41282275,\n",
       "       31446828.61218171, 31456828.89053462, 31465930.89768572,\n",
       "       31474215.32050425, 31481755.59819212, 31488618.57330282,\n",
       "       31494865.08428292, 31500550.5047886 , 31505725.23455845,\n",
       "       31510435.14619371, 31514721.99180663, 31518623.77314185,\n",
       "       31522175.07845174, 31525407.38911207, 31528349.35869598,\n",
       "       31531027.06698029, 31533464.2511358 , 31535682.51615094,\n",
       "       31537701.52635429, 31539539.17973357, 31541211.76659657,\n",
       "       31542734.11398037, 31544119.71708909, 31545380.85892525,\n",
       "       31546528.71917535, 31547573.47331481, 31548524.38281081,\n",
       "       31549389.87722278, 31550177.62892819, 31550894.62113609,\n",
       "       31551547.20979145, 31552141.1799189 , 31552681.79690544,\n",
       "       31553173.85317665, 31553621.71068033, 31554029.33955398,\n",
       "       31554400.353319  , 31554738.04091361, 31555045.39584839,\n",
       "       31555325.14274298, 31555579.7614791 , 31555811.50918403,\n",
       "       31556022.44023946, 31556214.42449301, 31556389.16383396,\n",
       "       31556548.20728003, 31556692.96470902, 31556824.71935697,\n",
       "       31556944.63919374, 31557053.78727676, 31557153.13117472,\n",
       "       31557243.5515448 , 31557325.84993951, 31557400.75591219,\n",
       "       31557468.93348435, 31557530.98703201, 31557587.46664334,\n",
       "       31557638.87299505, 31557685.66179075, 31557728.24780067,\n",
       "       31557767.00853844, 31557802.28760766, 31557834.39774791,\n",
       "       31557863.62360701, 31557890.22426442, 31557914.4355279 ,\n",
       "       31557936.47202384, 31557956.5290999 , 31557974.78455674,\n",
       "       31557991.4002241 , 31558006.52339546, 31558020.2881337 ,\n",
       "       31558032.81645955, 31558044.2194333 , 31558054.59813927,\n",
       "       31558064.04458192, 31558072.64250145, 31558080.46811612,\n",
       "       31558087.59079793, 31558094.07368756, 31558099.97425409,\n",
       "       31558105.34480447, 31558110.23294721, 31558114.68201438,\n",
       "       31558118.73144579, 31558122.41713855, 31558125.77176537,\n",
       "       31558128.82506411, 31558131.60410145, 31558134.13351282,\n",
       "       31558136.43572077, 31558138.53113377, 31558140.43832709,\n",
       "       31558142.1742075 , 31558143.75416311, 31558145.1921998 ,\n",
       "       31558146.5010654 , 31558147.69236264, 31558148.77665206])"
      ]
     },
     "execution_count": 11,
     "metadata": {},
     "output_type": "execute_result"
    }
   ],
   "source": [
    "t"
   ]
  },
  {
   "cell_type": "code",
   "execution_count": 12,
   "metadata": {},
   "outputs": [
    {
     "data": {
      "text/plain": [
       "31558148.776652064"
      ]
     },
     "execution_count": 12,
     "metadata": {},
     "output_type": "execute_result"
    }
   ],
   "source": [
    "t[-1]"
   ]
  },
  {
   "cell_type": "code",
   "execution_count": 13,
   "metadata": {},
   "outputs": [
    {
     "name": "stdout",
     "output_type": "stream",
     "text": [
      "ordered_sampling_pars ['lnM', 'mu', 'p0', 'e0', 'dist', 'cosqS', 'phiS', 'cosqK', 'phiK', 'Phi_phi0', 'Phi_r0']\n",
      "periodic_sampling_inds [6, 8, 9, 10]\n",
      "fixed_inds [2, 5, 12]\n",
      "fixed_vals [0.01, 1.0, 0.0]\n",
      "injection_params_array [5.0e+05 1.0e+01 1.0e-02 1.6e+01 1.0e-02 1.0e+00 1.0e+00 3.0e-01 3.0e-01\n",
      " 2.0e-01 2.0e-01 1.0e+00 0.0e+00 3.0e+00]\n",
      "truths [13.122363377404328, 10.0, 16.0, 0.01, 1.0, 0.955336489125606, 0.3, 0.9800665778412416, 0.2, 1.0, 3.0]\n",
      "sampling_param_transforms {0: <ufunc 'exp'>, 7: <ufunc 'arccos'>, 9: <ufunc 'arccos'>}\n",
      "11.322851272201191\n",
      "10.659116259719156 14.038654109278484 25.0 11.322851272201191 0.01 11.1 0.16038868381918003 4.950352965582118 0.5902915158960976 2.0039223112121056 2.5346264845924678 2.245172071394344\n",
      "[1.40386541e+01 2.50000000e+01 1.13228513e+01 1.00000000e-02\n",
      " 1.11000000e+01 1.60388684e-01 4.95035297e+00 5.90291516e-01\n",
      " 2.00392231e+00 2.53462648e+00 2.24517207e+00]\n",
      "4.330831405156653 14.038654109278484 25.0 11.322851272201191 0.01 11.1 -0.23471590694761824 2.666941106311014 0.20347628181016442 4.176545176677262 0.38630005816381835 0.2675978485007198\n",
      "[ 1.40386541e+01  2.50000000e+01  1.13228513e+01  1.00000000e-02\n",
      "  1.11000000e+01 -2.34715907e-01  2.66694111e+00  2.03476282e-01\n",
      "  4.17654518e+00  3.86300058e-01  2.67597849e-01]\n",
      "2 / 2 good\n",
      "header  snr lnM mu p0 e0 dist cosqS phiS cosqK phiK Phi_phi0 Phi_r0\n",
      "[[ 4.33083141e+00  1.40386541e+01  2.50000000e+01  1.13228513e+01\n",
      "   1.00000000e-02  1.11000000e+01 -2.34715907e-01  2.66694111e+00\n",
      "   2.03476282e-01  4.17654518e+00  3.86300058e-01  2.67597849e-01]\n",
      " [ 1.06591163e+01  1.40386541e+01  2.50000000e+01  1.13228513e+01\n",
      "   1.00000000e-02  1.11000000e+01  1.60388684e-01  4.95035297e+00\n",
      "   5.90291516e-01  2.00392231e+00  2.53462648e+00  2.24517207e+00]]\n"
     ]
    }
   ],
   "source": [
    "emri_prep=prep_emri.prep(\n",
    "    emri_injection_params_dict,\n",
    "    sampling_pars,\n",
    "    priors_dict,\n",
    "    Tobs,\n",
    "    dt,\n",
    "    use_gpu,\n",
    "    'PnAAK'\n",
    ")     \n",
    "\n",
    "run_emri_snr(\n",
    "    emri_prep,\n",
    "    emri_kwargs=waveform_kwargs_aak\n",
    ")"
   ]
  },
  {
   "cell_type": "code",
   "execution_count": null,
   "metadata": {},
   "outputs": [],
   "source": [
    "emri_prep=prep_emri.prep(\n",
    "    emri_injection_params_dict,\n",
    "    sampling_pars,\n",
    "    priors_dict,\n",
    "    Tobs,\n",
    "    dt,\n",
    "    use_gpu,\n",
    "    'FastSchwarzschildEccentricFlux'\n",
    ")     \n",
    "\n",
    "run_emri_snr(\n",
    "    emri_prep,\n",
    "    emri_kwargs=waveform_kwargs\n",
    ")"
   ]
  },
  {
   "cell_type": "code",
   "execution_count": 25,
   "metadata": {},
   "outputs": [
    {
     "name": "stdout",
     "output_type": "stream",
     "text": [
      "ordered_sampling_pars ['lnM', 'mu', 'p0', 'e0', 'dist', 'cosqS', 'phiS', 'cosqK', 'phiK', 'Phi_phi0', 'Phi_r0']\n",
      "periodic_sampling_inds [6, 8, 9, 10]\n",
      "fixed_inds [2, 5, 12]\n",
      "fixed_vals [0.01, 1.0, 0.0]\n",
      "injection_params_array [5.0e+05 1.0e+01 1.0e-02 1.6e+01 2.0e-01 1.0e+00 1.0e+00 3.0e-01 3.0e-01\n",
      " 2.0e-01 2.0e-01 1.0e+00 0.0e+00 3.0e+00]\n",
      "truths [13.122363377404328, 10.0, 16.0, 0.2, 1.0, 0.955336489125606, 0.3, 0.9800665778412416, 0.2, 1.0, 3.0]\n",
      "sampling_param_transforms {0: <ufunc 'exp'>, 7: <ufunc 'arccos'>, 9: <ufunc 'arccos'>}\n",
      "5.840666412477977 14.038654109278484 25.0 11.536843868454357 0.2 10.187715935926045 -0.7941082073863153 1.72803534503849 -0.8249256688550978 3.9237556265496476 4.976259812210596 0.8507749508208606\n",
      "[14.03865411 25.         11.53684387  0.2        10.18771594 -0.79410821\n",
      "  1.72803535 -0.82492567  3.92375563  4.97625981  0.85077495]\n",
      "3.36886884743735 14.038654109278484 25.0 11.536843868454357 0.2 10.187715935926045 0.3947457348655722 5.102602363317873 0.8911589020755307 3.0332206460503395 0.8537710901517852 2.150417487004212\n",
      "[14.03865411 25.         11.53684387  0.2        10.18771594  0.39474573\n",
      "  5.10260236  0.8911589   3.03322065  0.85377109  2.15041749]\n",
      "2 / 2 good\n",
      "header  snr lnM mu p0 e0 dist cosqS phiS cosqK phiK Phi_phi0 Phi_r0\n",
      "[[ 3.36886885 14.03865411 25.         11.53684387  0.2        10.18771594\n",
      "   0.39474573  5.10260236  0.8911589   3.03322065  0.85377109  2.15041749]\n",
      " [ 5.84066641 14.03865411 25.         11.53684387  0.2        10.18771594\n",
      "  -0.79410821  1.72803535 -0.82492567  3.92375563  4.97625981  0.85077495]]\n"
     ]
    }
   ],
   "source": [
    "emri_prep=prep_emri.prep(\n",
    "    emri_injection_params_dict,\n",
    "    sampling_pars,\n",
    "    priors_dict,\n",
    "    Tobs,\n",
    "    dt,\n",
    "    use_gpu,\n",
    ")     \n",
    "\n",
    "run_emri_snr(\n",
    "    emri_prep,\n",
    "    emri_kwargs=waveform_kwargs\n",
    ")"
   ]
  },
  {
   "cell_type": "code",
   "execution_count": 12,
   "metadata": {},
   "outputs": [],
   "source": [
    "like = emri_prep['like']"
   ]
  },
  {
   "cell_type": "code",
   "execution_count": 15,
   "metadata": {},
   "outputs": [],
   "source": [
    "wave_gen=emri_prep['wave_gen']\n",
    "priors=emri_prep['priors']\n",
    "like = emri_prep['like']\n",
    "injection_params=emri_prep['injection_params']\n",
    "#h=wave_gen(*injection_params)"
   ]
  },
  {
   "cell_type": "code",
   "execution_count": null,
   "metadata": {},
   "outputs": [],
   "source": []
  },
  {
   "cell_type": "code",
   "execution_count": 28,
   "metadata": {},
   "outputs": [
    {
     "ename": "TypeError",
     "evalue": "__call__() missing 3 required positional arguments: 'Phi_phi0', 'Phi_theta0', and 'Phi_r0'",
     "output_type": "error",
     "traceback": [
      "\u001b[0;31m---------------------------------------------------------------------------\u001b[0m",
      "\u001b[0;31mTypeError\u001b[0m                                 Traceback (most recent call last)",
      "\u001b[0;32m<ipython-input-28-8a801c39bbec>\u001b[0m in \u001b[0;36m<module>\u001b[0;34m\u001b[0m\n\u001b[1;32m      5\u001b[0m   \u001b[0;36m1.01877159e+01\u001b[0m\u001b[0;34m,\u001b[0m \u001b[0;34m-\u001b[0m\u001b[0;36m7.90272375e-01\u001b[0m\u001b[0;34m,\u001b[0m  \u001b[0;36m2.39096625e+00\u001b[0m\u001b[0;34m,\u001b[0m \u001b[0;34m-\u001b[0m\u001b[0;36m3.71539031e-01\u001b[0m\u001b[0;34m,\u001b[0m\u001b[0;34m\u001b[0m\u001b[0;34m\u001b[0m\u001b[0m\n\u001b[1;32m      6\u001b[0m   2.34561251e+00,  2.43303542e+00,  5.21321541e+00])\n\u001b[0;32m----> 7\u001b[0;31m \u001b[0mh\u001b[0m\u001b[0;34m=\u001b[0m\u001b[0mwave_gen\u001b[0m\u001b[0;34m(\u001b[0m\u001b[0;34m*\u001b[0m\u001b[0mtest_params\u001b[0m\u001b[0;34m,\u001b[0m \u001b[0;34m**\u001b[0m\u001b[0mwaveform_kwargs_aak\u001b[0m\u001b[0;34m)\u001b[0m\u001b[0;34m\u001b[0m\u001b[0;34m\u001b[0m\u001b[0m\n\u001b[0m",
      "\u001b[0;32m~/opt/anaconda3/envs/lisa_env/lib/python3.7/site-packages/fastlisaresponse/response.py\u001b[0m in \u001b[0;36m__call__\u001b[0;34m(self, projections_start_ind, projections_cut_ind, remove_projection_buffer, tdi_cut_ind, *args, **kwargs)\u001b[0m\n\u001b[1;32m   1044\u001b[0m \u001b[0;34m\u001b[0m\u001b[0m\n\u001b[1;32m   1045\u001b[0m         \u001b[0;31m# get the waveform\u001b[0m\u001b[0;34m\u001b[0m\u001b[0;34m\u001b[0m\u001b[0;34m\u001b[0m\u001b[0m\n\u001b[0;32m-> 1046\u001b[0;31m         \u001b[0mh\u001b[0m \u001b[0;34m=\u001b[0m \u001b[0mself\u001b[0m\u001b[0;34m.\u001b[0m\u001b[0mwaveform_gen\u001b[0m\u001b[0;34m(\u001b[0m\u001b[0;34m*\u001b[0m\u001b[0margs\u001b[0m\u001b[0;34m,\u001b[0m \u001b[0;34m**\u001b[0m\u001b[0mkwargs\u001b[0m\u001b[0;34m)\u001b[0m\u001b[0;34m\u001b[0m\u001b[0;34m\u001b[0m\u001b[0m\n\u001b[0m\u001b[1;32m   1047\u001b[0m \u001b[0;34m\u001b[0m\u001b[0m\n\u001b[1;32m   1048\u001b[0m         \u001b[0;32mif\u001b[0m \u001b[0mself\u001b[0m\u001b[0;34m.\u001b[0m\u001b[0mflip_hx\u001b[0m\u001b[0;34m:\u001b[0m\u001b[0;34m\u001b[0m\u001b[0;34m\u001b[0m\u001b[0m\n",
      "\u001b[0;31mTypeError\u001b[0m: __call__() missing 3 required positional arguments: 'Phi_phi0', 'Phi_theta0', and 'Phi_r0'"
     ]
    }
   ],
   "source": [
    "testparams=like.parameter_transforms['emri'].both_transforms(np.array([ 1.31223634e+01,  1.00000000e+01,  1.00000000e+01,  1.00000000e-02,\n",
    "  1.01877159e+01, -7.90272375e-01,  2.39096625e+00, -3.71539031e-01,\n",
    "  2.34561251e+00,  2.43303542e+00,  5.21321541e+00]))\n",
    "test_params = np.array([ 1.31223634e+01,  1.00000000e+01,  1.00000000e+01,  1.00000000e-02,\n",
    "  1.01877159e+01, -7.90272375e-01,  2.39096625e+00, -3.71539031e-01,\n",
    "  2.34561251e+00,  2.43303542e+00,  5.21321541e+00])\n",
    "h=wave_gen(*test_params, **waveform_kwargs_aak)"
   ]
  },
  {
   "cell_type": "code",
   "execution_count": 27,
   "metadata": {},
   "outputs": [
    {
     "data": {
      "text/plain": [
       "(array([5.00000011e+05, 1.00000000e+01, 1.00000000e-02, 1.00000000e+01,\n",
       "        1.00000000e-02, 1.00000000e+00, 1.01877159e+01, 2.48204971e+00,\n",
       "        2.39096625e+00, 1.95146249e+00, 2.34561251e+00, 2.43303542e+00,\n",
       "        0.00000000e+00, 5.21321541e+00]),\n",
       " array([5.0e+05, 1.0e+01, 1.0e-02, 1.6e+01, 7.0e-01, 1.0e+00, 1.0e+00,\n",
       "        3.0e-01, 3.0e-01, 2.0e-01, 2.0e-01, 1.0e+00, 0.0e+00, 3.0e+00]))"
      ]
     },
     "execution_count": 27,
     "metadata": {},
     "output_type": "execute_result"
    }
   ],
   "source": [
    "testparams, injection_params"
   ]
  },
  {
   "cell_type": "code",
   "execution_count": 17,
   "metadata": {},
   "outputs": [
    {
     "data": {
      "image/png": "[encoded data removed]",
      "text/plain": [
       "<Figure size 640x480 with 1 Axes>"
      ]
     },
     "metadata": {},
     "output_type": "display_data"
    }
   ],
   "source": [
    "plt.plot(h[0][1330:2000])\n",
    "plt.plot(h[1][1330:2000])\n",
    "plt.show()"
   ]
  },
  {
   "cell_type": "code",
   "execution_count": null,
   "metadata": {},
   "outputs": [],
   "source": []
  },
  {
   "cell_type": "code",
   "execution_count": 44,
   "metadata": {},
   "outputs": [
    {
     "data": {
      "text/plain": [
       "0.0"
      ]
     },
     "execution_count": 44,
     "metadata": {},
     "output_type": "execute_result"
    }
   ],
   "source": [
    "hf = np.fft.rfft(h)*dt\n",
    "df = 1/(h[0].size*dt)\n",
    "freqs = np.fft.rfftfreq(h[0].size, dt)\n",
    "freqs[1]-df"
   ]
  },
  {
   "cell_type": "code",
   "execution_count": 49,
   "metadata": {},
   "outputs": [
    {
     "data": {
      "text/plain": [
       "4.8874662143075795"
      ]
     },
     "execution_count": 49,
     "metadata": {},
     "output_type": "execute_result"
    }
   ],
   "source": [
    "np.sqrt(np.sum((np.abs(hf[0])**2+np.abs(hf[1])**2)/get_sensitivity(freqs))*df)"
   ]
  },
  {
   "cell_type": "code",
   "execution_count": 47,
   "metadata": {},
   "outputs": [
    {
     "data": {
      "image/png": "[encoded data removed]",
      "text/plain": [
       "<Figure size 640x480 with 1 Axes>"
      ]
     },
     "metadata": {},
     "output_type": "display_data"
    }
   ],
   "source": [
    "min_i = 10000\n",
    "plt.loglog(freqs[min_i:],np.abs(hf[0][min_i:]))\n",
    "plt.loglog(freqs[min_i:],np.abs(hf[1][min_i:]))\n",
    "plt.loglog(freqs[min_i:],np.sqrt(get_sensitivity(freqs)[min_i:]))\n",
    "plt.show()"
   ]
  },
  {
   "cell_type": "code",
   "execution_count": 19,
   "metadata": {},
   "outputs": [],
   "source": [
    "h2=few(1e6, 10, 10, 0.7, 0.1, 0.5, T=0.5, dt=15)\n",
    "hdist=few(1e6, 10, 10, 0.7, 0.1, 0.5, T=0.5, dt=15, dist=10)"
   ]
  },
  {
   "cell_type": "code",
   "execution_count": 20,
   "metadata": {},
   "outputs": [
    {
     "data": {
      "text/plain": [
       "[<matplotlib.lines.Line2D at 0x7f8b44635ad0>]"
      ]
     },
     "execution_count": 20,
     "metadata": {},
     "output_type": "execute_result"
    },
    {
     "data": {
      "image/png": "[encoded data removed]",
      "text/plain": [
       "<Figure size 640x480 with 1 Axes>"
      ]
     },
     "metadata": {},
     "output_type": "display_data"
    }
   ],
   "source": [
    "plt.plot(h2.real[:1000])"
   ]
  },
  {
   "cell_type": "code",
   "execution_count": 21,
   "metadata": {},
   "outputs": [
    {
     "data": {
      "text/plain": [
       "4.785415917595429e-23"
      ]
     },
     "execution_count": 21,
     "metadata": {},
     "output_type": "execute_result"
    }
   ],
   "source": [
    "(hdist/h2)[0].real"
   ]
  },
  {
   "cell_type": "code",
   "execution_count": 22,
   "metadata": {},
   "outputs": [
    {
     "data": {
      "text/plain": [
       "3.0856775812799587e+25"
      ]
     },
     "execution_count": 22,
     "metadata": {},
     "output_type": "execute_result"
    }
   ],
   "source": [
    "dist*10**9*30856775812799588"
   ]
  },
  {
   "cell_type": "code",
   "execution_count": 30,
   "metadata": {},
   "outputs": [],
   "source": [
    "import astropy.constants as astroc\n",
    "import astropy.units as u"
   ]
  },
  {
   "cell_type": "code",
   "execution_count": null,
   "metadata": {},
   "outputs": [],
   "source": []
  },
  {
   "cell_type": "code",
   "execution_count": null,
   "metadata": {},
   "outputs": [],
   "source": []
  },
  {
   "cell_type": "code",
   "execution_count": 33,
   "metadata": {},
   "outputs": [],
   "source": [
    "def solar_mass_to_meters(mass):\n",
    "    return mass*astroc.G*astroc.M_sun/astroc.c**2\n",
    "def solar_mass_to_parsecs(mass):\n",
    "    return solar_mass_to_meters(mass)/astroc.pc*u.pc"
   ]
  },
  {
   "cell_type": "code",
   "execution_count": 39,
   "metadata": {},
   "outputs": [
    {
     "data": {
      "text/latex": [
       "$1.5883172 \\times 10^{-8} \\; \\mathrm{}$"
      ],
      "text/plain": [
       "<Quantity 1.58831724e-08>"
      ]
     },
     "execution_count": 39,
     "metadata": {},
     "output_type": "execute_result"
    }
   ],
   "source": [
    "1-solar_mass_to_parsecs(10.)/(10e9*u.pc)/((hdist/h2)[0].real)"
   ]
  },
  {
   "cell_type": "code",
   "execution_count": null,
   "metadata": {},
   "outputs": [],
   "source": []
  },
  {
   "cell_type": "code",
   "execution_count": null,
   "metadata": {},
   "outputs": [],
   "source": []
  },
  {
   "cell_type": "code",
   "execution_count": null,
   "metadata": {},
   "outputs": [],
   "source": []
  }
 ],
 "metadata": {
  "kernelspec": {
   "display_name": "lisa_env",
   "language": "python",
   "name": "lisa_env"
  },
  "language_info": {
   "codemirror_mode": {
    "name": "ipython",
    "version": 3
   },
   "file_extension": ".py",
   "mimetype": "text/x-python",
   "name": "python",
   "nbconvert_exporter": "python",
   "pygments_lexer": "ipython3",
   "version": "3.7.12"
  }
 },
 "nbformat": 4,
 "nbformat_minor": 5
}
